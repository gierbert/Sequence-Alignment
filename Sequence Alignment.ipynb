{
 "cells": [
  {
   "cell_type": "code",
   "execution_count": null,
   "metadata": {
    "collapsed": true
   },
   "outputs": [],
   "source": [
    "!pip install biopython"
   ]
  },
  {
   "cell_type": "code",
   "execution_count": null,
   "outputs": [],
   "source": [
    "# #----------------------------------------蛋白质双序列比对-----------------------------------------\n",
    "\n",
    "from Bio.Align import substitution_matrices\n",
    "from Bio import pairwise2\n",
    "from Bio.pairwise2 import format_alignment"
   ],
   "metadata": {
    "collapsed": false
   }
  },
  {
   "cell_type": "code",
   "execution_count": null,
   "outputs": [],
   "source": [
    "# 计算一致度和相似度\n",
    "def calculate_matches_similarities(aligned_seq1, aligned_seq2, matrix):\n",
    "    matches = 0  # 完全匹配的残基数\n",
    "    similarities = 0  # 相似残基数（根据矩阵）\n",
    "\n",
    "    for a, b in zip(aligned_seq1, aligned_seq2):\n",
    "        if a == '-' or b == '-':\n",
    "            continue  # 忽略空位\n",
    "        if a == b:\n",
    "            matches += 1\n",
    "        # 检查替换矩阵中的得分（BLOSUM62中正分表示相似）\n",
    "        if (a, b) in matrix:\n",
    "            score = matrix[(a, b)]\n",
    "        else:\n",
    "            score = matrix[(b, a)]  # 处理矩阵对称性\n",
    "        if score > 0:\n",
    "            similarities += 1\n",
    "    return matches, similarities"
   ],
   "metadata": {
    "collapsed": false
   }
  },
  {
   "cell_type": "code",
   "execution_count": null,
   "outputs": [],
   "source": [
    "# 使用BLOSUM62得分矩阵\n",
    "matrix = substitution_matrices.load(\"BLOSUM62\")\n",
    "print(matrix)"
   ],
   "metadata": {
    "collapsed": false
   }
  },
  {
   "cell_type": "code",
   "execution_count": null,
   "outputs": [],
   "source": [
    "protein1 = \"ggrvln\"\n",
    "# 转为大写，如已经是大写则无需转换\n",
    "protein1 = protein1.upper()\n",
    "protein2 = \"gkrvkv\"\n",
    "protein2 = protein2.upper()"
   ],
   "metadata": {
    "collapsed": false
   }
  },
  {
   "cell_type": "code",
   "execution_count": null,
   "outputs": [],
   "source": [
    "# 使用 BLOSUM62 矩阵，进行序列比对\n",
    "alignments = pairwise2.align.globaldx(protein1, protein2, matrix)\n",
    "# 打印比对结果\n",
    "for a in alignments:\n",
    "    print(format_alignment(*a))"
   ],
   "metadata": {
    "collapsed": false
   }
  },
  {
   "cell_type": "code",
   "execution_count": null,
   "outputs": [],
   "source": [
    "# 获取最佳比对结果（通常第一个）\n",
    "best_alignment = alignments[0]\n",
    "# 提取比对后的序列\n",
    "aligned_seq1 = best_alignment.seqA\n",
    "aligned_seq2 = best_alignment.seqB\n",
    "\n",
    "# 计算一致度和相似度\n",
    "matches, similarities = calculate_matches_similarities(aligned_seq1, aligned_seq2, matrix)\n",
    "total = len(protein1)\n",
    "identity = matches / total * 100\n",
    "similarity = similarities / total * 100\n",
    "print(\"一致度：\", identity)\n",
    "print(\"相似度：\", similarity)"
   ],
   "metadata": {
    "collapsed": false
   }
  },
  {
   "cell_type": "code",
   "execution_count": null,
   "outputs": [],
   "source": [
    "#----------------------------------------核苷酸双序列比对-----------------------------------------\n",
    "\n",
    "from Bio import pairwise2\n",
    "from Bio.pairwise2 import format_alignment"
   ],
   "metadata": {
    "collapsed": false
   }
  },
  {
   "cell_type": "code",
   "execution_count": null,
   "outputs": [],
   "source": [
    "# 定义两个核苷酸序列\n",
    "seq1 = \"ACACTTTCATTGTTTTACCGTTGCTCTGATTAATTGACGCTAAAGTCAGTAAAGTTAATCTCGTCAACACGGCACGCTACT\"\n",
    "seq2 = \"CCGATGATCCTCATCGTAATCCAACCGAAACTTTACCTGATTCTGGCAGTCAAATCGGCTATCACAAAACAAGGATAAGGT\"\n",
    "\n",
    "# 使用全局比对算法进行比对，参数：序列1，序列2，匹配得分，错配得分，插入得分，插入扩展得分\n",
    "# 自定义的得分矩阵\n",
    "alignments = pairwise2.align.globalms(seq1, seq2, 2, -1, -0.5, -0.5)\n",
    "seq1_aligned, seq2_aligned, score, begin, end = alignments[0]"
   ],
   "metadata": {
    "collapsed": false
   }
  },
  {
   "cell_type": "code",
   "execution_count": null,
   "outputs": [],
   "source": [
    "# 打印结果\n",
    "print(format_alignment(*alignments[0]))\n",
    "print(\"得分：\", score)\n",
    "print(\"序列1：\", seq1)\n",
    "print(\"序列2：\", seq2)"
   ],
   "metadata": {
    "collapsed": false
   }
  },
  {
   "cell_type": "code",
   "execution_count": null,
   "outputs": [],
   "source": [
    "# 一致性：两个序列中相同位置的核苷酸相同的比例\n",
    "# 该得分矩阵中一致度和相似度相同\n",
    "identity = sum(1 for a, b in zip(seq1_aligned, seq2_aligned) if a == b) / len(seq1)\n",
    "print(\"一致度：\", identity)"
   ],
   "metadata": {
    "collapsed": false
   }
  },
  {
   "cell_type": "code",
   "execution_count": null,
   "outputs": [],
   "source": [
    "#-------------------------------利用在线BLAST从NCBI数据库进行序列比对---------------------------------------\n",
    "\n",
    "from Bio.Blast import NCBIWWW\n",
    "from Bio import SeqIO\n",
    "import pandas as pd\n",
    "from Bio.Blast import NCBIXML"
   ],
   "metadata": {
    "collapsed": false
   }
  },
  {
   "cell_type": "code",
   "execution_count": null,
   "outputs": [],
   "source": [
    "# 参数说明\n",
    "# program: blastn（核酸 vs 核酸）、blastp（蛋白 vs 蛋白）、blastx（核酸转蛋白 vs 蛋白）\n",
    "# database: nt（NCBI核酸库）、nr（NCBI蛋白库）、refseq_select（精选参考序列）\n",
    "# expect (e-value): 期望值阈值，值越小表示匹配越显著（默认 0.001）\n",
    "# hitlist_size: 返回的最大结果数量（默认 50）\n",
    "\n",
    "def online_blast(query_file, blast_program='blastn', database='nt', evalue=0.001):\n",
    "    # 读取查询序列\n",
    "    query_seq = SeqIO.read(query_file, \"fasta\")\n",
    "\n",
    "    # 提交在线BLAST请求\n",
    "    print(\"正在提交BLAST请求...\")\n",
    "    result_handle = NCBIWWW.qblast(\n",
    "        program=blast_program,  # 'blastn', 'blastp', 'blastx'等\n",
    "        database=database,  # 'nt'（核酸库）或 'nr'（蛋白库）\n",
    "        sequence=query_seq.seq,  # 查询序列\n",
    "        expect=evalue,  # 期望值阈值\n",
    "        hitlist_size=10,  # 返回结果数量\n",
    "        format_type=\"XML\"  # 输出格式（XML便于解析）\n",
    "    )\n",
    "\n",
    "    # 保存原始结果（可选）\n",
    "    with open(\"blast_results.xml\", \"w\") as out_file:\n",
    "        out_file.write(result_handle.read())\n",
    "    result_handle.close()\n",
    "\n",
    "    return \"blast_results.xml\"\n",
    "\n",
    "\n",
    "\n",
    "def blast_results_to_table(xml_file, output_csv=\"blast_results.csv\"):\n",
    "    data = []\n",
    "    with open(xml_file) as f:\n",
    "        blast_records = NCBIXML.parse(f)\n",
    "        for record in blast_records:\n",
    "            print(f\"查询序列: {record.query}\")\n",
    "            for align in record.alignments:\n",
    "                print(f\"命中序列: {align.hit_id}\")\n",
    "                for hsp in align.hsps:\n",
    "                    print(f\"比对片段: \\n{hsp.query}\\n{hsp.match}\\n{hsp.sbjct}\")\n",
    "                    row = {\n",
    "                        \"Query\": record.query,\n",
    "                        \"Hit_ID\": align.hit_id,\n",
    "                        \"E_value\": hsp.expect,\n",
    "                        \"Score\": hsp.score,\n",
    "                        \"Identity\": hsp.identities / hsp.align_length * 100,\n",
    "                        \"Alignment_Length\": hsp.align_length,\n",
    "                        \"Query_Start\": hsp.query_start,\n",
    "                        \"Query_End\": hsp.query_end,\n",
    "                        \"Hit_Start\": hsp.sbjct_start,\n",
    "                        \"Hit_End\": hsp.sbjct_end\n",
    "                    }\n",
    "                    data.append(row)\n",
    "\n",
    "    df = pd.DataFrame(data)\n",
    "    df.to_csv(output_csv, index=False)\n",
    "    return df\n"
   ],
   "metadata": {
    "collapsed": false
   }
  },
  {
   "cell_type": "code",
   "execution_count": null,
   "outputs": [],
   "source": [
    "# 示例调用\n",
    "result_file = online_blast(\"query.fasta\")\n",
    "df = blast_results_to_table(\"blast_results.xml\")\n",
    "print(df.head())"
   ],
   "metadata": {
    "collapsed": false
   }
  }
 ],
 "metadata": {
  "kernelspec": {
   "display_name": "Python 3",
   "language": "python",
   "name": "python3"
  },
  "language_info": {
   "codemirror_mode": {
    "name": "ipython",
    "version": 2
   },
   "file_extension": ".py",
   "mimetype": "text/x-python",
   "name": "python",
   "nbconvert_exporter": "python",
   "pygments_lexer": "ipython2",
   "version": "2.7.6"
  }
 },
 "nbformat": 4,
 "nbformat_minor": 0
}
